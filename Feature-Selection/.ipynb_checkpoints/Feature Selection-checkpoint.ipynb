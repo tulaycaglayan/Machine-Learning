{
 "cells": [
  {
   "cell_type": "markdown",
   "id": "owned-notification",
   "metadata": {},
   "source": [
    "# Feature Selection \n",
    "\n",
    "**Author :** Tulay Caglayan\n",
    "\n",
    "### Objective:\n",
    "\n",
    "We will try feature selection techniques on data and compare result. RandomForestClassifier algoritm will be used as base algorithm \n",
    "\n",
    "### Resources Available: \n",
    "The data file \"mushrooms.csv\" is exported from  https://www.kaggle.com/uciml/mushroom-classification.\n",
    "\n",
    "### Attribute Information:\n",
    "\n",
    "**Dependent Feature(Target/Label)** \n",
    "1. classes: edible=e, poisonous=p\n",
    "\n",
    "**Independent Features**\n",
    "2. cap-shape: bell=b,conical=c,convex=x,flat=f, knobbed=k,sunken=s\n",
    "3. cap-surface: fibrous=f,grooves=g,scaly=y,smooth=s\n",
    "4. cap-color: brown=n,buff=b,cinnamon=c,gray=g,green=r,pink=p,purple=u,red=e,white=w,yellow=y\n",
    "5. bruises: bruises=t,no=f\n",
    "6. odor: almond=a,anise=l,creosote=c,fishy=y,foul=f,musty=m,none=n,pungent=p,spicy=s\n",
    "7. gill-attachment: attached=a,descending=d,free=f,notched=n\n",
    "8. gill-spacing: close=c,crowded=w,distant=d\n",
    "9. gill-size: broad=b,narrow=n\n",
    "10. gill-color: black=k,brown=n,buff=b,chocolate=h,gray=g, green=r,orange=o,pink=p,purple=u,red=e,white=w,yellow=y\n",
    "11. stalk-shape: enlarging=e,tapering=t\n",
    "12. stalk-root: bulbous=b,club=c,cup=u,equal=e,rhizomorphs=z,rooted=r,missing=?\n",
    "13. stalk-surface-above-ring: fibrous=f,scaly=y,silky=k,smooth=s\n",
    "14. stalk-surface-below-ring: fibrous=f,scaly=y,silky=k,smooth=s\n",
    "15. stalk-color-above-ring: brown=n,buff=b,cinnamon=c,gray=g,orange=o,pink=p,red=e,white=w,yellow=y\n",
    "16. stalk-color-below-ring: brown=n,buff=b,cinnamon=c,gray=g,orange=o,pink=p,red=e,white=w,yellow=y\n",
    "17. veil-type: partial=p,universal=u\n",
    "18. veil-color: brown=n,orange=o,white=w,yellow=y\n",
    "19. ring-number: none=n,one=o,two=t\n",
    "20. ring-type: cobwebby=c,evanescent=e,flaring=f,large=l,none=n,pendant=p,sheathing=s,zone=z\n",
    "21. spore-print-color: black=k,brown=n,buff=b,chocolate=h,green=r,orange=o,purple=u,white=w,yellow=y\n",
    "22. population: abundant=a,clustered=c,numerous=n,scattered=s,several=v,solitary=y\n",
    "23. habitat: grasses=g,leaves=l,meadows=m,paths=p,urban=u,waste=w,woods=d"
   ]
  },
  {
   "cell_type": "markdown",
   "id": "strange-industry",
   "metadata": {},
   "source": [
    "# Import Libraries"
   ]
  },
  {
   "cell_type": "code",
   "execution_count": 1,
   "id": "engaged-reproduction",
   "metadata": {},
   "outputs": [],
   "source": [
    "import pandas as pd\n",
    "import numpy as np\n",
    "\n",
    "# preprocessing\n",
    "from sklearn.preprocessing import LabelEncoder\n",
    "\n",
    "# Train test split\n",
    "from sklearn.model_selection import train_test_split\n",
    "\n",
    "# Feature Selection \n",
    "from sklearn.feature_selection import VarianceThreshold\n",
    "from sklearn.feature_selection import SelectKBest\n",
    "from sklearn.feature_selection import chi2\n",
    "from sklearn.feature_selection import SelectFromModel\n",
    "from sklearn.feature_selection import RFE #recursive selection\n",
    "from mlxtend.feature_selection import SequentialFeatureSelector as SFS\n",
    "\n",
    "# Models\n",
    "from sklearn.ensemble import RandomForestClassifier\n",
    "### below will be used for selecting feature importance \n",
    "from sklearn.ensemble import ExtraTreesClassifier\n",
    "from sklearn.svm import LinearSVC\n",
    "from sklearn.pipeline import Pipeline\n",
    "\n",
    "# Metrics \n",
    "from sklearn.metrics import classification_report, confusion_matrix\n",
    "from sklearn.metrics import accuracy_score, recall_score, precision_score, f1_score, roc_auc_score\n",
    "\n",
    "# visualization\\\n",
    "import seaborn as sns\n",
    "import matplotlib.pyplot as plt\n",
    "%matplotlib inline\n",
    "\n",
    "import time\n",
    "\n",
    "import warnings\n",
    "warnings.filterwarnings(\"ignore\")"
   ]
  },
  {
   "cell_type": "markdown",
   "id": "mexican-virgin",
   "metadata": {},
   "source": [
    "# Load Data "
   ]
  },
  {
   "cell_type": "code",
   "execution_count": 2,
   "id": "faced-survivor",
   "metadata": {},
   "outputs": [
    {
     "data": {
      "text/plain": [
       "(8124, 23)"
      ]
     },
     "execution_count": 2,
     "metadata": {},
     "output_type": "execute_result"
    }
   ],
   "source": [
    "df = pd.read_csv(\"data/mushrooms.csv\")\n",
    "df.shape"
   ]
  },
  {
   "cell_type": "code",
   "execution_count": 3,
   "id": "ignored-cross",
   "metadata": {},
   "outputs": [
    {
     "data": {
      "text/plain": [
       "(8124, 0)"
      ]
     },
     "execution_count": 3,
     "metadata": {},
     "output_type": "execute_result"
    }
   ],
   "source": [
    "df.select_dtypes(include=['number']).shape"
   ]
  },
  {
   "cell_type": "markdown",
   "id": "global-cleaner",
   "metadata": {},
   "source": [
    "Since all features are object type, we should transfer all to numeric. We will use one hot encoding to transfer independent features and labelEncoder to transfer dependent feature named 'class'"
   ]
  },
  {
   "cell_type": "code",
   "execution_count": 4,
   "id": "statutory-singer",
   "metadata": {},
   "outputs": [
    {
     "data": {
      "text/plain": [
       "class                        2\n",
       "cap-shape                    6\n",
       "cap-surface                  4\n",
       "cap-color                   10\n",
       "bruises                      2\n",
       "odor                         9\n",
       "gill-attachment              2\n",
       "gill-spacing                 2\n",
       "gill-size                    2\n",
       "gill-color                  12\n",
       "stalk-shape                  2\n",
       "stalk-root                   5\n",
       "stalk-surface-above-ring     4\n",
       "stalk-surface-below-ring     4\n",
       "stalk-color-above-ring       9\n",
       "stalk-color-below-ring       9\n",
       "veil-type                    1\n",
       "veil-color                   4\n",
       "ring-number                  3\n",
       "ring-type                    5\n",
       "spore-print-color            9\n",
       "population                   6\n",
       "habitat                      7\n",
       "dtype: int64"
      ]
     },
     "execution_count": 4,
     "metadata": {},
     "output_type": "execute_result"
    }
   ],
   "source": [
    "# count all distinct values \n",
    "df.nunique()"
   ]
  },
  {
   "cell_type": "markdown",
   "id": "convinced-worcester",
   "metadata": {},
   "source": [
    "There is no empty fields that we need to treat"
   ]
  },
  {
   "cell_type": "code",
   "execution_count": 5,
   "id": "engaged-amplifier",
   "metadata": {},
   "outputs": [],
   "source": [
    "X = df.drop(columns=['class'], axis=1)\n",
    "y = df['class']\n",
    "\n",
    "X = pd.get_dummies(X, prefix_sep=\"_\", drop_first=True)\n",
    "y = LabelEncoder().fit_transform(y)"
   ]
  },
  {
   "cell_type": "code",
   "execution_count": 6,
   "id": "ahead-atlantic",
   "metadata": {},
   "outputs": [
    {
     "name": "stdout",
     "output_type": "stream",
     "text": [
      "There are 95 features \n"
     ]
    }
   ],
   "source": [
    "print(\"There are %s features \"% X.shape[1])"
   ]
  },
  {
   "cell_type": "markdown",
   "id": "headed-donna",
   "metadata": {},
   "source": [
    "# Create and Execute Model "
   ]
  },
  {
   "cell_type": "code",
   "execution_count": 7,
   "id": "hindu-transmission",
   "metadata": {},
   "outputs": [],
   "source": [
    "# draw confusion matrix function\n",
    "def draw_confusion_matrix(y_test, y_pred):\n",
    "\n",
    "    # Draw confusion matrix\n",
    "    plt.figure(figsize=[4, 4])\n",
    "    cf_matrix = confusion_matrix(y_test, y_pred)\n",
    "    group_names = ['TN','FP','FN','TP']\n",
    "    group_counts = ['{0:0.0f}'.format(value) for value in cf_matrix.flatten()]\n",
    "    group_percentages =['{0:.2%}'.format(value) for value in cf_matrix.flatten()/np.sum(cf_matrix)]\n",
    "    labels = [f'{v1}\\n{v2}\\n{v3}' for v1,v2,v3 in zip(group_names,group_counts,group_percentages)]\n",
    "    labels = np.asarray(labels).reshape(2,2)\n",
    "    df_cm = pd.DataFrame(cf_matrix, index = [i for i in [\"Actual 0\",\"Actual 1\"]], \n",
    "                                 columns = [i for i in [\"Predict 0\",\"Predict 1\"]])\n",
    "    sns.heatmap(df_cm, fmt='', linewidths=1, annot=labels, cbar=False, annot_kws={\"size\":14})\n",
    "    plt.title('Confusion Matrix' )\n",
    "    plt.show()\n",
    "        \n",
    "    # print classification_report \n",
    "    print(classification_report(y_test, y_pred))\n",
    "   \n",
    "  \n",
    "model_metrics = {} \n",
    "# save_metrucs function will be used to store each metric for models in order to compare results\n",
    "def save_metrics(y_test, y_pred, y_proba, execution_time, model_name):\n",
    "\n",
    "    # save metrics\n",
    "    accuracy = accuracy_score(y_test, y_pred)\n",
    "    recall = recall_score(y_test, y_pred)\n",
    "    precision = precision_score(y_test, y_pred)\n",
    "    f1 = f1_score(y_test, y_pred)\n",
    "    model_roc_auc = roc_auc_score(y_test, y_proba[:,1] )\n",
    "    \n",
    "    model_metrics[model_name] = {'Feature Count': X_test.shape[1],\n",
    "                               'Accuracy': '{:.2f}'.format( np.round(accuracy,2)),\n",
    "                               'Precision': '{:.2f}'.format(np.round(precision,2)),\n",
    "                               'Recall': '{:.2f}'.format(np.round(recall,2)),\n",
    "                               'F1-Score': '{:.2f}'.format(np.round(f1,2)), \n",
    "                               'AUC': '{:.2f}'.format(np.round(model_roc_auc,2)),\n",
    "                               'Time' : '{:.8f}'.format(execution_time)\n",
    "                               }\n",
    "    "
   ]
  },
  {
   "cell_type": "markdown",
   "id": "gross-austria",
   "metadata": {},
   "source": [
    "### 1. With All Features"
   ]
  },
  {
   "cell_type": "code",
   "execution_count": 8,
   "id": "inner-publicity",
   "metadata": {},
   "outputs": [],
   "source": [
    "# Train test split\n",
    "X_train, X_test, y_train, y_test = train_test_split(X, y, test_size=0.3, random_state=7)"
   ]
  },
  {
   "cell_type": "code",
   "execution_count": 9,
   "id": "adaptive-blood",
   "metadata": {},
   "outputs": [
    {
     "data": {
      "image/png": "[encoded data removed]",
      "text/plain": [
       "<Figure size 288x288 with 1 Axes>"
      ]
     },
     "metadata": {
      "needs_background": "light"
     },
     "output_type": "display_data"
    },
    {
     "name": "stdout",
     "output_type": "stream",
     "text": [
      "              precision    recall  f1-score   support\n",
      "\n",
      "           0       1.00      1.00      1.00      1252\n",
      "           1       1.00      1.00      1.00      1186\n",
      "\n",
      "    accuracy                           1.00      2438\n",
      "   macro avg       1.00      1.00      1.00      2438\n",
      "weighted avg       1.00      1.00      1.00      2438\n",
      "\n"
     ]
    }
   ],
   "source": [
    "# create model object\n",
    "model = RandomForestClassifier(n_estimators=500)\n",
    "\n",
    "# fit model and measure execution time \n",
    "start = time.process_time()\n",
    "model.fit(X_train, y_train)\n",
    "execution_time = time.process_time() - start\n",
    "\n",
    "# Prediction on test data\n",
    "y_pred = model.predict(X_test)\n",
    "y_proba = model.predict_proba(X_test)\n",
    "\n",
    "# report model\n",
    "draw_confusion_matrix(y_test, y_pred)\n",
    "save_metrics(y_test, y_pred, y_proba, execution_time, 'With All Features')"
   ]
  },
  {
   "cell_type": "markdown",
   "id": "opening-church",
   "metadata": {},
   "source": [
    "* As we see without any feature drop, we have 100% accuracy"
   ]
  },
  {
   "cell_type": "markdown",
   "id": "rolled-envelope",
   "metadata": {},
   "source": [
    "### 2. Feature Selection by Using Feature Importance"
   ]
  },
  {
   "cell_type": "code",
   "execution_count": 10,
   "id": "running-belfast",
   "metadata": {},
   "outputs": [
    {
     "data": {
      "image/png": "[encoded data removed]",
      "text/plain": [
       "<Figure size 432x288 with 1 Axes>"
      ]
     },
     "metadata": {
      "needs_background": "light"
     },
     "output_type": "display_data"
    }
   ],
   "source": [
    "feature_importance = pd.Series(model.feature_importances_, index= X.columns)\n",
    "feature_importance.nlargest(10).plot(kind='barh');"
   ]
  },
  {
   "cell_type": "code",
   "execution_count": 11,
   "id": "attached-terminal",
   "metadata": {},
   "outputs": [],
   "source": [
    "# get most important 4 features \n",
    "X_feature_importance = X[feature_importance.nlargest(4).index]\n",
    "\n",
    "# train test split by using X_feature_importance\n",
    "X_train, X_test, y_train, y_test = train_test_split(X_feature_importance, y, test_size=0.3, random_state=7)"
   ]
  },
  {
   "cell_type": "code",
   "execution_count": 12,
   "id": "first-tumor",
   "metadata": {},
   "outputs": [
    {
     "data": {
      "image/png": "[encoded data removed]",
      "text/plain": [
       "<Figure size 288x288 with 1 Axes>"
      ]
     },
     "metadata": {
      "needs_background": "light"
     },
     "output_type": "display_data"
    },
    {
     "name": "stdout",
     "output_type": "stream",
     "text": [
      "              precision    recall  f1-score   support\n",
      "\n",
      "           0       0.98      0.98      0.98      1252\n",
      "           1       0.98      0.97      0.98      1186\n",
      "\n",
      "    accuracy                           0.98      2438\n",
      "   macro avg       0.98      0.98      0.98      2438\n",
      "weighted avg       0.98      0.98      0.98      2438\n",
      "\n"
     ]
    }
   ],
   "source": [
    "# create model object\n",
    "model = RandomForestClassifier(n_estimators=500)\n",
    "\n",
    "# fit model and measure execution time\n",
    "start = time.process_time()\n",
    "model.fit(X_train, y_train)\n",
    "execution_time = time.process_time() - start\n",
    "\n",
    "# Prediction on test data\n",
    "y_pred = model.predict(X_test)\n",
    "y_proba = model.predict_proba(X_test)\n",
    "\n",
    "# report model\n",
    "draw_confusion_matrix(y_test, y_pred)\n",
    "save_metrics(y_test, y_pred, y_proba, execution_time, 'Feature Importance')"
   ]
  },
  {
   "cell_type": "markdown",
   "id": "suited-orleans",
   "metadata": {},
   "source": [
    "* By getting 4 features out of 95 features, we have 99% accuracy. We don't lose much accuracy, but with 4 features we save time, especially with big data"
   ]
  },
  {
   "cell_type": "markdown",
   "id": "respective-shoot",
   "metadata": {},
   "source": [
    "### 3. Feature Selection by Using Tree-based feature selection\n",
    "\n",
    "Tree-based estimators can be used to compute impurity-based feature importances, which in turn can be used to discard irrelevant features (when coupled with the SelectFromModel meta-transformer)\n"
   ]
  },
  {
   "cell_type": "code",
   "execution_count": 13,
   "id": "informative-funeral",
   "metadata": {},
   "outputs": [
    {
     "data": {
      "text/plain": [
       "(8124, 24)"
      ]
     },
     "execution_count": 13,
     "metadata": {},
     "output_type": "execute_result"
    }
   ],
   "source": [
    "clf = ExtraTreesClassifier(n_estimators=300).fit(X, y)\n",
    "\n",
    "selectFromModel = SelectFromModel(clf, prefit=True)\n",
    "X_selectFromModel = selectFromModel.transform(X)\n",
    "X_selectFromModel.shape"
   ]
  },
  {
   "cell_type": "code",
   "execution_count": 14,
   "id": "monthly-swedish",
   "metadata": {},
   "outputs": [],
   "source": [
    "# Train test split\n",
    "X_train, X_test, y_train, y_test = train_test_split(X_selectFromModel, y, test_size=0.3, random_state=7)"
   ]
  },
  {
   "cell_type": "code",
   "execution_count": 15,
   "id": "adjusted-discovery",
   "metadata": {},
   "outputs": [
    {
     "data": {
      "image/png": "[encoded data removed]",
      "text/plain": [
       "<Figure size 288x288 with 1 Axes>"
      ]
     },
     "metadata": {
      "needs_background": "light"
     },
     "output_type": "display_data"
    },
    {
     "name": "stdout",
     "output_type": "stream",
     "text": [
      "              precision    recall  f1-score   support\n",
      "\n",
      "           0       1.00      1.00      1.00      1252\n",
      "           1       1.00      1.00      1.00      1186\n",
      "\n",
      "    accuracy                           1.00      2438\n",
      "   macro avg       1.00      1.00      1.00      2438\n",
      "weighted avg       1.00      1.00      1.00      2438\n",
      "\n"
     ]
    }
   ],
   "source": [
    "# create model object\n",
    "model = RandomForestClassifier(n_estimators=500)\n",
    "\n",
    "# fit model and measure execution time \n",
    "start = time.process_time()\n",
    "model.fit(X_train, y_train)\n",
    "execution_time = time.process_time() - start\n",
    "\n",
    "# Prediction on test data\n",
    "y_pred = model.predict(X_test)\n",
    "y_proba = model.predict_proba(X_test)\n",
    "\n",
    "# report model\n",
    "draw_confusion_matrix(y_test, y_pred)\n",
    "save_metrics(y_test, y_pred, y_proba, execution_time, 'Tree-based feature selection')"
   ]
  },
  {
   "cell_type": "markdown",
   "id": "rotary-stevens",
   "metadata": {},
   "source": [
    "* We can get 100% accuracy by 22 features "
   ]
  },
  {
   "cell_type": "markdown",
   "id": "colored-wrong",
   "metadata": {},
   "source": [
    "### 4. Feature Selection by Using L1-based feature selection\n",
    "\n",
    "Linear models penalized with the L1 norm have sparse solutions: many of their estimated coefficients are zero. When the goal is to reduce the dimensionality of the data to use with another classifier, they can be used along with **SelectFromModel** to select the non-zero coefficients.   \n",
    "\n",
    "In particular, **sparse estimators** useful for this purpose are :\n",
    "* **Lasso** for regression\n",
    "* **LogisticRegression** and **LinearSVC** for classification:\n",
    "\n",
    "With SVMs and logistic-regression, the parameter C controls the sparsity: the smaller C the fewer features selected. With Lasso, the higher the alpha parameter, the fewer features selected.   \n"
   ]
  },
  {
   "cell_type": "code",
   "execution_count": 16,
   "id": "infectious-multimedia",
   "metadata": {},
   "outputs": [
    {
     "data": {
      "text/plain": [
       "(8124, 5)"
      ]
     },
     "execution_count": 16,
     "metadata": {},
     "output_type": "execute_result"
    }
   ],
   "source": [
    "lsvc = LinearSVC(C=0.0003, penalty=\"l1\", dual=False).fit(X, y) \n",
    "\n",
    "selectFromModel = SelectFromModel(lsvc, prefit=True)\n",
    "X_selectFromModel = selectFromModel.transform(X)\n",
    "X_selectFromModel.shape"
   ]
  },
  {
   "cell_type": "code",
   "execution_count": 17,
   "id": "afraid-grade",
   "metadata": {},
   "outputs": [],
   "source": [
    "# train test split by using X_feature_importance\n",
    "X_train, X_test, y_train, y_test = train_test_split(X_selectFromModel, y, test_size=0.3, random_state=7)"
   ]
  },
  {
   "cell_type": "code",
   "execution_count": 18,
   "id": "casual-norway",
   "metadata": {},
   "outputs": [
    {
     "data": {
      "image/png": "[encoded data removed]",
      "text/plain": [
       "<Figure size 288x288 with 1 Axes>"
      ]
     },
     "metadata": {
      "needs_background": "light"
     },
     "output_type": "display_data"
    },
    {
     "name": "stdout",
     "output_type": "stream",
     "text": [
      "              precision    recall  f1-score   support\n",
      "\n",
      "           0       0.98      0.98      0.98      1252\n",
      "           1       0.98      0.98      0.98      1186\n",
      "\n",
      "    accuracy                           0.98      2438\n",
      "   macro avg       0.98      0.98      0.98      2438\n",
      "weighted avg       0.98      0.98      0.98      2438\n",
      "\n"
     ]
    }
   ],
   "source": [
    "# create model object\n",
    "model = RandomForestClassifier(n_estimators=500)\n",
    "\n",
    "# fit model and measure execution time \n",
    "start = time.process_time()\n",
    "model.fit(X_train, y_train)\n",
    "execution_time = time.process_time() - start\n",
    "\n",
    "# Prediction on test data\n",
    "y_pred = model.predict(X_test)\n",
    "y_proba = model.predict_proba(X_test)\n",
    "\n",
    "# report model\n",
    "draw_confusion_matrix(y_test, y_pred)\n",
    "save_metrics(y_test, y_pred, y_proba, execution_time, 'L1-based feature selection')"
   ]
  },
  {
   "cell_type": "markdown",
   "id": "rapid-shopper",
   "metadata": {},
   "source": [
    "* With selectFromModel and LinearSVC, we selected 5 features. Our accuracy is 98% "
   ]
  },
  {
   "cell_type": "markdown",
   "id": "canadian-killer",
   "metadata": {},
   "source": [
    "### 5. Feature Selection by Using Sklearn VarianceThreshold\n",
    "\n",
    "VarianceThreshold is a simple baseline approach to feature selection. It removes all features whose variance doesn’t meet some threshold. By default, it removes all zero-variance features, i.e. features that have the same value in all samples.  \n",
    "\n",
    "Boolean features are Bernoulli random variables, and the variance of such variables is given by   \n",
    "\n",
    "Var[X] = p(1-p)  \n",
    "\n",
    "VarianceThreshold removes the features which have zeros more than threshold"
   ]
  },
  {
   "cell_type": "code",
   "execution_count": 19,
   "id": "together-momentum",
   "metadata": {},
   "outputs": [
    {
     "data": {
      "text/plain": [
       "(8124, 28)"
      ]
     },
     "execution_count": 19,
     "metadata": {},
     "output_type": "execute_result"
    }
   ],
   "source": [
    "# remove all features that are either one or zero (on or off) in more than 80% of the data. \n",
    "sel = VarianceThreshold(threshold=(.8 * (1 - .8)))\n",
    "X_selected = sel.fit_transform(X)\n",
    "X_selected.shape"
   ]
  },
  {
   "cell_type": "code",
   "execution_count": 20,
   "id": "precise-outline",
   "metadata": {},
   "outputs": [],
   "source": [
    "# train test split by using X_feature_importance\n",
    "X_train, X_test, y_train, y_test = train_test_split(X_selected, y, test_size=0.3, random_state=7)"
   ]
  },
  {
   "cell_type": "code",
   "execution_count": 21,
   "id": "previous-matrix",
   "metadata": {},
   "outputs": [
    {
     "data": {
      "image/png": "[encoded data removed]",
      "text/plain": [
       "<Figure size 288x288 with 1 Axes>"
      ]
     },
     "metadata": {
      "needs_background": "light"
     },
     "output_type": "display_data"
    },
    {
     "name": "stdout",
     "output_type": "stream",
     "text": [
      "              precision    recall  f1-score   support\n",
      "\n",
      "           0       1.00      1.00      1.00      1252\n",
      "           1       1.00      1.00      1.00      1186\n",
      "\n",
      "    accuracy                           1.00      2438\n",
      "   macro avg       1.00      1.00      1.00      2438\n",
      "weighted avg       1.00      1.00      1.00      2438\n",
      "\n"
     ]
    }
   ],
   "source": [
    "# create model object\n",
    "model = RandomForestClassifier(n_estimators=500)\n",
    "\n",
    "# fit model and measure execution time \n",
    "start = time.process_time()\n",
    "model.fit(X_train, y_train)\n",
    "execution_time = time.process_time() - start\n",
    "\n",
    "# Prediction on test data\n",
    "y_pred = model.predict(X_test)\n",
    "y_proba = model.predict_proba(X_test)\n",
    "\n",
    "# report model\n",
    "draw_confusion_matrix(y_test, y_pred)\n",
    "save_metrics(y_test, y_pred, y_proba, execution_time, 'VarianceThreshold')"
   ]
  },
  {
   "cell_type": "markdown",
   "id": "accessory-ticket",
   "metadata": {},
   "source": [
    "### 6. Feature Selection by Using Sklearn SelectKBest\n",
    "\n",
    "SelectKBest removes all but the  highest scoring features \n"
   ]
  },
  {
   "cell_type": "code",
   "execution_count": 22,
   "id": "oriental-stuart",
   "metadata": {},
   "outputs": [
    {
     "data": {
      "text/plain": [
       "(8124, 5)"
      ]
     },
     "execution_count": 22,
     "metadata": {},
     "output_type": "execute_result"
    }
   ],
   "source": [
    "X_kBest = SelectKBest(chi2, k=5).fit_transform(X, y)\n",
    "X_kBest.shape"
   ]
  },
  {
   "cell_type": "code",
   "execution_count": 23,
   "id": "composed-display",
   "metadata": {},
   "outputs": [],
   "source": [
    "# train test split by using X_feature_importance\n",
    "X_train, X_test, y_train, y_test = train_test_split(X_kBest, y, test_size=0.3, random_state=7)"
   ]
  },
  {
   "cell_type": "code",
   "execution_count": 24,
   "id": "involved-patrick",
   "metadata": {},
   "outputs": [
    {
     "data": {
      "image/png": "[encoded data removed]",
      "text/plain": [
       "<Figure size 288x288 with 1 Axes>"
      ]
     },
     "metadata": {
      "needs_background": "light"
     },
     "output_type": "display_data"
    },
    {
     "name": "stdout",
     "output_type": "stream",
     "text": [
      "              precision    recall  f1-score   support\n",
      "\n",
      "           0       0.98      0.98      0.98      1252\n",
      "           1       0.98      0.98      0.98      1186\n",
      "\n",
      "    accuracy                           0.98      2438\n",
      "   macro avg       0.98      0.98      0.98      2438\n",
      "weighted avg       0.98      0.98      0.98      2438\n",
      "\n"
     ]
    }
   ],
   "source": [
    "# create model object\n",
    "model = RandomForestClassifier(n_estimators=500)\n",
    "\n",
    "# fit model and measure execution time \n",
    "start = time.process_time()\n",
    "model.fit(X_train, y_train)\n",
    "execution_time = time.process_time() - start\n",
    "\n",
    "# Prediction on test data\n",
    "y_pred = model.predict(X_test)\n",
    "y_proba = model.predict_proba(X_test)\n",
    "\n",
    "# report model\n",
    "draw_confusion_matrix(y_test, y_pred)\n",
    "save_metrics(y_test, y_pred, y_proba, execution_time, 'SelectKBest')"
   ]
  },
  {
   "cell_type": "markdown",
   "id": "lined-federal",
   "metadata": {},
   "source": [
    "### 7. Feature Selection by Recursive Feature Elimination\n",
    "\n",
    "Given an external estimator that assigns weights to features (e.g., the coefficients of a linear model), the goal of recursive feature elimination (RFE) is to select features by recursively considering smaller and smaller sets of features.    \n",
    "\n",
    "First, the estimator is trained on the initial set of features and the importance of each feature is obtained either through any specific attribute (such as coef_, feature_importances_) or callable.   \n",
    "\n",
    "Then, the least important features are pruned from current set of features.   \n",
    "\n",
    "That procedure is recursively repeated on the pruned set until the desired number of features to select is eventually reached.\n"
   ]
  },
  {
   "cell_type": "code",
   "execution_count": 25,
   "id": "complicated-milan",
   "metadata": {},
   "outputs": [
    {
     "data": {
      "text/plain": [
       "(8124, 5)"
      ]
     },
     "execution_count": 25,
     "metadata": {},
     "output_type": "execute_result"
    }
   ],
   "source": [
    "# Create the RFE object\n",
    "lsvc = LinearSVC(C=0.001, penalty=\"l1\", dual=False)\n",
    "\n",
    "X_rfe = RFE(estimator=lsvc, n_features_to_select=5).fit_transform(X, y)\n",
    "X_rfe.shape"
   ]
  },
  {
   "cell_type": "code",
   "execution_count": 26,
   "id": "interim-yugoslavia",
   "metadata": {},
   "outputs": [],
   "source": [
    "# train test split by using X_feature_importance\n",
    "X_train, X_test, y_train, y_test = train_test_split(X_rfe, y, test_size=0.3, random_state=7)"
   ]
  },
  {
   "cell_type": "code",
   "execution_count": 27,
   "id": "basic-addiction",
   "metadata": {},
   "outputs": [
    {
     "data": {
      "image/png": "[encoded data removed]",
      "text/plain": [
       "<Figure size 288x288 with 1 Axes>"
      ]
     },
     "metadata": {
      "needs_background": "light"
     },
     "output_type": "display_data"
    },
    {
     "name": "stdout",
     "output_type": "stream",
     "text": [
      "              precision    recall  f1-score   support\n",
      "\n",
      "           0       0.98      0.98      0.98      1252\n",
      "           1       0.98      0.98      0.98      1186\n",
      "\n",
      "    accuracy                           0.98      2438\n",
      "   macro avg       0.98      0.98      0.98      2438\n",
      "weighted avg       0.98      0.98      0.98      2438\n",
      "\n"
     ]
    }
   ],
   "source": [
    "# create model object\n",
    "model = RandomForestClassifier(n_estimators=500)\n",
    "\n",
    "# fit model and measure execution time \n",
    "start = time.process_time()\n",
    "model.fit(X_train, y_train)\n",
    "execution_time = time.process_time() - start\n",
    "\n",
    "# Prediction on test data\n",
    "y_pred = model.predict(X_test)\n",
    "y_proba = model.predict_proba(X_test)\n",
    "\n",
    "# report model\n",
    "draw_confusion_matrix(y_test, y_pred)\n",
    "save_metrics(y_test, y_pred, y_proba, execution_time, 'Recursive Feature Elimination')"
   ]
  },
  {
   "cell_type": "markdown",
   "id": "binding-reach",
   "metadata": {},
   "source": [
    "### 8. Feature Selection by SequentialFeatureSelector\n",
    "\n",
    "Sequential Feature Selection [sfs] (SFS) is available in the SequentialFeatureSelector transformer. SFS can be either forward or backward:   \n",
    "\n",
    "**Forward-SFS** is a greedy procedure that iteratively finds the best new feature to add to the set of selected features. Concretely, we initially start with zero feature and find the one feature that maximizes a cross-validated score when an estimator is trained on this single feature. Once that first feature is selected, we repeat the procedure by adding a new feature to the set of selected features. The procedure stops when the desired number of selected features is reached, as determined by the **n_features_to_select** parameter.    \n",
    "\n",
    "**Backward-SFS** follows the same idea but works in the opposite direction: instead of starting with no feature and greedily adding features, we start with all the features and greedily remove features from the set. The direction parameter controls whether forward or backward SFS is used.    \n",
    "\n",
    "In general, forward and backward selection do not yield equivalent results. Also, one may be much faster than the other depending on the requested number of selected features: if we have 10 features and ask for 7 selected features, forward selection would need to perform 7 iterations while backward selection would only need to perform 3.    \n",
    "\n",
    "**SFS** differs from **RFE** and **SelectFromModel** in that it does not require the underlying model to expose a coef_ or feature_importances_ attribute. It may however be slower considering that more models need to be evaluated, compared to the other approaches. For example in backward selection, the iteration going from m features to m - 1 features using k-fold cross-validation requires fitting m * k models, while RFE would require only a single fit, and SelectFromModel always just does a single fit and requires no iterations.   \n"
   ]
  },
  {
   "cell_type": "code",
   "execution_count": 28,
   "id": "union-factory",
   "metadata": {},
   "outputs": [],
   "source": [
    "lsvc = LinearSVC(C=0.001, penalty=\"l1\", dual=False)\n",
    "\n",
    "sfs1 = SFS(lsvc, \n",
    "           k_features=20, \n",
    "           forward=True, \n",
    "           floating=False, \n",
    "           verbose=0,\n",
    "           scoring='accuracy',\n",
    "           cv=0)\n",
    "\n",
    "sfs1 = sfs1.fit(X, y)"
   ]
  },
  {
   "cell_type": "code",
   "execution_count": 29,
   "id": "cutting-stage",
   "metadata": {},
   "outputs": [],
   "source": [
    "X_sfs = X[ list(sfs1.k_feature_names_) ]\n",
    "\n",
    "# train test split by using X_feature_importance\n",
    "X_train, X_test, y_train, y_test = train_test_split(X_sfs, y, test_size=0.3, random_state=7)"
   ]
  },
  {
   "cell_type": "code",
   "execution_count": 30,
   "id": "promotional-mustang",
   "metadata": {},
   "outputs": [
    {
     "data": {
      "image/png": "[encoded data removed]",
      "text/plain": [
       "<Figure size 288x288 with 1 Axes>"
      ]
     },
     "metadata": {
      "needs_background": "light"
     },
     "output_type": "display_data"
    },
    {
     "name": "stdout",
     "output_type": "stream",
     "text": [
      "              precision    recall  f1-score   support\n",
      "\n",
      "           0       0.98      0.99      0.99      1252\n",
      "           1       0.99      0.98      0.99      1186\n",
      "\n",
      "    accuracy                           0.99      2438\n",
      "   macro avg       0.99      0.99      0.99      2438\n",
      "weighted avg       0.99      0.99      0.99      2438\n",
      "\n"
     ]
    }
   ],
   "source": [
    "# create model object\n",
    "model = RandomForestClassifier(n_estimators=500)\n",
    "\n",
    "# fit model and measure execution time \n",
    "start = time.process_time()\n",
    "model.fit(X_train, y_train)\n",
    "execution_time = time.process_time() - start\n",
    "\n",
    "# Prediction on test data\n",
    "y_pred = model.predict(X_test)\n",
    "y_proba = model.predict_proba(X_test)\n",
    "\n",
    "# report model\n",
    "draw_confusion_matrix(y_test, y_pred)\n",
    "save_metrics(y_test, y_pred, y_proba, execution_time, 'SequentialFeatureSelector')"
   ]
  },
  {
   "cell_type": "markdown",
   "id": "absent-illinois",
   "metadata": {},
   "source": [
    "### 10. Feature selection as part of a pipeline\n",
    "\n",
    "Feature selection is used as a pre-processing step before doing the actual learning. The recommended way to do this in scikit-learn is to use a Pipeline.\n",
    "\n",
    "In this snippet, we make use of a LinearSVC coupled with SelectFromModel to evaluate feature importances and select the most relevant features. Then, a DecisionTreeClassifier is trained on the transformed output, i.e. using only relevant features"
   ]
  },
  {
   "cell_type": "code",
   "execution_count": 31,
   "id": "stuck-character",
   "metadata": {},
   "outputs": [],
   "source": [
    "# Train test split\n",
    "X_train, X_test, y_train, y_test = train_test_split(X, y, test_size=0.3, random_state=7)"
   ]
  },
  {
   "cell_type": "code",
   "execution_count": 32,
   "id": "designed-durham",
   "metadata": {},
   "outputs": [
    {
     "data": {
      "image/png": "[encoded data removed]",
      "text/plain": [
       "<Figure size 288x288 with 1 Axes>"
      ]
     },
     "metadata": {
      "needs_background": "light"
     },
     "output_type": "display_data"
    },
    {
     "name": "stdout",
     "output_type": "stream",
     "text": [
      "              precision    recall  f1-score   support\n",
      "\n",
      "           0       0.98      0.98      0.98      1252\n",
      "           1       0.98      0.98      0.98      1186\n",
      "\n",
      "    accuracy                           0.98      2438\n",
      "   macro avg       0.98      0.98      0.98      2438\n",
      "weighted avg       0.98      0.98      0.98      2438\n",
      "\n"
     ]
    }
   ],
   "source": [
    "# create model object\n",
    "model = Pipeline([\n",
    "          ('feature_selection', SelectFromModel(LinearSVC(C=0.001, penalty=\"l1\", dual=False))),\n",
    "          ('classification', RandomForestClassifier(n_estimators=500))\n",
    "        ])\n",
    "\n",
    "# fit model and measure execution time \n",
    "start = time.process_time()\n",
    "model.fit(X_train, y_train)\n",
    "execution_time = time.process_time() - start\n",
    "\n",
    "# Prediction on test data\n",
    "y_pred = model.predict(X_test)\n",
    "y_proba = model.predict_proba(X_test)\n",
    "\n",
    "# report model\n",
    "draw_confusion_matrix(y_test, y_pred)"
   ]
  },
  {
   "cell_type": "markdown",
   "id": "robust-detective",
   "metadata": {},
   "source": [
    "# Conclusion\n",
    "\n",
    "In this work, we compared time gains and accuracy loose by dropping insignificant features. Results we concluded are:   \n",
    "* By dropping unnecessary features, our model time performance and complexity will be better. In our example, data is too small. For big data, time will really matter\n",
    "* We don't loose too much accuracy by dropping uncessary features or features having low importance. Accuracy goes down from 100% to 98%, 99% . This worths to drop to have simpler model and good time gain \n"
   ]
  },
  {
   "cell_type": "code",
   "execution_count": 33,
   "id": "emotional-judge",
   "metadata": {},
   "outputs": [
    {
     "data": {
      "text/html": [
       "<div>\n",
       "<style scoped>\n",
       "    .dataframe tbody tr th:only-of-type {\n",
       "        vertical-align: middle;\n",
       "    }\n",
       "\n",
       "    .dataframe tbody tr th {\n",
       "        vertical-align: top;\n",
       "    }\n",
       "\n",
       "    .dataframe thead th {\n",
       "        text-align: right;\n",
       "    }\n",
       "</style>\n",
       "<table border=\"1\" class=\"dataframe\">\n",
       "  <thead>\n",
       "    <tr style=\"text-align: right;\">\n",
       "      <th></th>\n",
       "      <th>Feature Count</th>\n",
       "      <th>Accuracy</th>\n",
       "      <th>Precision</th>\n",
       "      <th>Recall</th>\n",
       "      <th>F1-Score</th>\n",
       "      <th>AUC</th>\n",
       "      <th>Time</th>\n",
       "    </tr>\n",
       "  </thead>\n",
       "  <tbody>\n",
       "    <tr>\n",
       "      <th>With All Features</th>\n",
       "      <td>95</td>\n",
       "      <td>1.00</td>\n",
       "      <td>1.00</td>\n",
       "      <td>1.00</td>\n",
       "      <td>1.00</td>\n",
       "      <td>1.00</td>\n",
       "      <td>1.93441240</td>\n",
       "    </tr>\n",
       "    <tr>\n",
       "      <th>Feature Importance</th>\n",
       "      <td>4</td>\n",
       "      <td>0.98</td>\n",
       "      <td>0.98</td>\n",
       "      <td>0.97</td>\n",
       "      <td>0.98</td>\n",
       "      <td>0.99</td>\n",
       "      <td>1.27920820</td>\n",
       "    </tr>\n",
       "    <tr>\n",
       "      <th>Tree-based feature selection</th>\n",
       "      <td>24</td>\n",
       "      <td>1.00</td>\n",
       "      <td>1.00</td>\n",
       "      <td>1.00</td>\n",
       "      <td>1.00</td>\n",
       "      <td>1.00</td>\n",
       "      <td>1.48200950</td>\n",
       "    </tr>\n",
       "    <tr>\n",
       "      <th>L1-based feature selection</th>\n",
       "      <td>5</td>\n",
       "      <td>0.98</td>\n",
       "      <td>0.98</td>\n",
       "      <td>0.98</td>\n",
       "      <td>0.98</td>\n",
       "      <td>1.00</td>\n",
       "      <td>1.32600850</td>\n",
       "    </tr>\n",
       "    <tr>\n",
       "      <th>VarianceThreshold</th>\n",
       "      <td>28</td>\n",
       "      <td>1.00</td>\n",
       "      <td>1.00</td>\n",
       "      <td>1.00</td>\n",
       "      <td>1.00</td>\n",
       "      <td>1.00</td>\n",
       "      <td>1.68481080</td>\n",
       "    </tr>\n",
       "    <tr>\n",
       "      <th>SelectKBest</th>\n",
       "      <td>5</td>\n",
       "      <td>0.98</td>\n",
       "      <td>0.98</td>\n",
       "      <td>0.98</td>\n",
       "      <td>0.98</td>\n",
       "      <td>0.99</td>\n",
       "      <td>1.29480830</td>\n",
       "    </tr>\n",
       "    <tr>\n",
       "      <th>Recursive Feature Elimination</th>\n",
       "      <td>5</td>\n",
       "      <td>0.98</td>\n",
       "      <td>0.98</td>\n",
       "      <td>0.98</td>\n",
       "      <td>0.98</td>\n",
       "      <td>0.99</td>\n",
       "      <td>1.31040840</td>\n",
       "    </tr>\n",
       "    <tr>\n",
       "      <th>SequentialFeatureSelector</th>\n",
       "      <td>20</td>\n",
       "      <td>0.99</td>\n",
       "      <td>0.99</td>\n",
       "      <td>0.98</td>\n",
       "      <td>0.99</td>\n",
       "      <td>1.00</td>\n",
       "      <td>1.85641190</td>\n",
       "    </tr>\n",
       "  </tbody>\n",
       "</table>\n",
       "</div>"
      ],
      "text/plain": [
       "                               Feature Count Accuracy Precision Recall  \\\n",
       "With All Features                         95     1.00      1.00   1.00   \n",
       "Feature Importance                         4     0.98      0.98   0.97   \n",
       "Tree-based feature selection              24     1.00      1.00   1.00   \n",
       "L1-based feature selection                 5     0.98      0.98   0.98   \n",
       "VarianceThreshold                         28     1.00      1.00   1.00   \n",
       "SelectKBest                                5     0.98      0.98   0.98   \n",
       "Recursive Feature Elimination              5     0.98      0.98   0.98   \n",
       "SequentialFeatureSelector                 20     0.99      0.99   0.98   \n",
       "\n",
       "                              F1-Score   AUC        Time  \n",
       "With All Features                 1.00  1.00  1.93441240  \n",
       "Feature Importance                0.98  0.99  1.27920820  \n",
       "Tree-based feature selection      1.00  1.00  1.48200950  \n",
       "L1-based feature selection        0.98  1.00  1.32600850  \n",
       "VarianceThreshold                 1.00  1.00  1.68481080  \n",
       "SelectKBest                       0.98  0.99  1.29480830  \n",
       "Recursive Feature Elimination     0.98  0.99  1.31040840  \n",
       "SequentialFeatureSelector         0.99  1.00  1.85641190  "
      ]
     },
     "execution_count": 33,
     "metadata": {},
     "output_type": "execute_result"
    }
   ],
   "source": [
    "# Scores of all the models by building a dataframe with model names as row index and all the metrics calculated as columns\n",
    "pd.DataFrame.from_dict(model_metrics, orient='index')"
   ]
  }
 ],
 "metadata": {
  "kernelspec": {
   "display_name": "Python 3",
   "language": "python",
   "name": "python3"
  },
  "language_info": {
   "codemirror_mode": {
    "name": "ipython",
    "version": 3
   },
   "file_extension": ".py",
   "mimetype": "text/x-python",
   "name": "python",
   "nbconvert_exporter": "python",
   "pygments_lexer": "ipython3",
   "version": "3.6.9"
  }
 },
 "nbformat": 4,
 "nbformat_minor": 5
}
